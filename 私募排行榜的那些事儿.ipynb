{
 "cells": [
  {
   "cell_type": "markdown",
   "metadata": {
    "collapsed": true
   },
   "source": [
    "# 私募排行榜的那些事儿"
   ]
  },
  {
   "cell_type": "markdown",
   "metadata": {},
   "source": [
    "## 本文属于\"疯狗撕云\"原创，数据来源于互联网，观点属于\"疯狗撕云\"，如有任何意见和看法，请在Issue里面留言，谢谢。"
   ]
  },
  {
   "cell_type": "markdown",
   "metadata": {},
   "source": [
    "## 通过百度搜索引擎，我使用\"2016私募基金排行榜\"作为搜索关键字可以得到如下搜索结果（此结果可能会随着时间推移而改变)，但是我展示的是一种代码加数据表达观点的方式。"
   ]
  },
  {
   "cell_type": "code",
   "execution_count": 60,
   "metadata": {
    "collapsed": false
   },
   "outputs": [
    {
     "name": "stdout",
     "output_type": "stream",
     "text": [
      "[最新整理2016 私募基金公司实力排名]\n[http://www.baidu.com/link?url=ZScMpOq79Ch8qPZBU_tsSJ5-zYwksfjRujln383AEMiWWvfsQyexAku1ptmhvpT4ErjpeopG9vERiXRTpmQN7K]\n[2016收益最好的私募基金名单出炉:最牛赚7100%-基金频道-和讯网]\n[http://www.baidu.com/link?url=wVOLR9Xz9atQPLCgxinkqQavC3btKzUjerhNPsD1WhIQZjFQih0ocP-vRZauwSe6OEkGoeluf8P2Xglh8Ai7a8orsJ5Xcs2tSwqu4i_KJs_]\n[2016年私募基金排行榜权威发布! - 雪球]\n[http://www.baidu.com/link?url=_cvFmg7zBYDFMPh9y0MkSbvBf_lbKcWKc4-HbMDUp8hh1rb0qVGP49khrFIReB5_]\n[2016年度私募基金排名榜单有没?_百度知道]\n[http://www.baidu.com/link?url=QLGaBOHJL4eccHps01W2bM6FrUFp2uGEI2R9i-eFW_7coHr4XvPul_9nhlR3v_tsDKyidu299CbVdVtVoYMewqFhn47Ni-lPP0FA_pO4JlK]\n[神奇私募在哪里?2016年私募基金排行榜权威发布!|私募排..._新浪财经]\n[http://www.baidu.com/link?url=B4HvALmDbkzBeJOUGlPh16h9WZDalED4OvKNLWKD_M8ZzBEgSkGCIePmIwKFklVXVo57V8ltHT-F492PN51ojXCum4q69oyGpsK3P6bGFh11vZjKoe-AJVRDKtKLwsEy]\n[2016私募基金排名_基金_中金网]\n[http://www.baidu.com/link?url=nBpG9LReq-SqWJyd4CR3fJPW_TD3-Ogzkb7cNLNO6YWEcmfbKOPlr-GRWz1v6En1g7Bzf-wQbOgxSai0trha9v_RXYyFpgNnNUxKuU7frVu]\n[2016年度中国最稳私募基金产品排行榜-基金频道-和讯网]\n[http://www.baidu.com/link?url=bt8OFSKOJ02iizu5KONNWH9zc2cYdroB2MLtiL0207MB8qBtjPP_H36j-9hdz13A88dGgqj6PdBng_kUL0lbYa]\n[2016年度中国最稳私募基金排行榜]\n[http://www.baidu.com/link?url=_3yPbSdJQ1m-w79bjG_CmuIO-0Su6HFixZVBZ-9Y456asw0DV9mOPG0OKJjWRuts5VPkulq88Rslntj9dmEY2hAdNHy8djgx9n7dczTRXqC]\n[2016年第四季度私募基金排行榜 - 中投在线]\n[http://www.baidu.com/link?url=Vn6arDSj_rtn5oEKPpdx5ta4Qzx4Ox45xq14UlYaldLo361BinsBamFxwNj-JU2Hh9Hr8LXZgVjpbXLULd_Crq]\n"
     ]
    },
    {
     "name": "stdout",
     "output_type": "stream",
     "text": [
      "Continue...\n[2016年度阳光私募基金排行榜_商讯_产经频道首页_财经网 - CAIJING...]\n[http://www.baidu.com/link?url=ZCvJpO7r_TgEixEyKGUGA9j6OUVih_ff0PrQCrlnLA3y4mgBAp8dmp5hKfZkTTWdElIQEsb6p4ykcOUD6kLRRa]\n[2016中国十大私募基金公司排名 - 希财网]\n[http://www.baidu.com/link?url=8GzUXBGvOFDQiqLP8EL7B4jVCj1AvSvjx3MBx9mDXhcY1LJTdtg9YK2tGwCVGAOGCL8TlqUTt9ybeQAgZ4q9u_]\n[2016年度中国最佳股票策略私募基金产品排行榜_基金视点_中证网]\n[http://www.baidu.com/link?url=XT8Uzrf4ae5B3Y9BPvBNVRENgES_NYDbxUeNT_tM9XvelHZB3iiM50tbI-vM1FUWBVcV__YeTKlXX0CTP44Uug5ne9yKGF4bJEe7YLX0xb_]\n[最新2016年私募基金排行_私募基金_基金买卖网]\n[http://www.baidu.com/link?url=VhLSq-0D6eBecRYlW5lzQ1p261wOuNX6ZSb2Vq0OpKa3X92U78VI5uWe2BvgfCVjEIN3Y8aRT-21OxLH2SIeqq]\n[朝阳永续:重磅发布 | 2016年私募基金八大策略收益排行榜]\n[http://www.baidu.com/link?url=jONXFW6Oz7i7kGZp21IVUE70tPmytuDN6PgJErqvo4ciErERKAw302GCVXy7Ncub1NEJgCrN-udQQrHhF8VumpcX5Z6UQc86civCQ4qgG4i]\n[基金排名|2016年1-11月私募基金收益排行榜 - 基金 - 至诚财经网]\n[http://www.baidu.com/link?url=kOfKA6MI3Nm8Dr9D9MZv3ycFhYobGpZXcuWAFZwYEBfKeOr8cu4rVDOEVOWvHR5ZI55yO1T6AOKeXIQ_gOwd6a]\n[2016年上半年中国阳光私募基金巅峰榜-基金频道]\n[http://www.baidu.com/link?url=DPyX_jlMzcyXpjwagZHbCfj8jIYG2BSJMRxwU6xiTX8dbD6X6C27_aBDgJuaxRSgNpgAA0Pz7K7E8Toi2BQAua]\n[2016三季度“十强私募”排行榜:私募基金重镇10月优势..._南方财富网]\n[http://www.baidu.com/link?url=2Audxl0JldCLYEg5s28ErDTmCG_qV3OkDzVlm0qiDicAuIgNwT7sMC5Uz3gjCWfgj__xk0m6ZmWIxXW5-6EW2k5sB8f8b7q_IGQbgu-_LsS]\n[2016年一季度中国阳光私募基金巅峰榜_基金数据_中国贸易金融网]\n[http://www.baidu.com/link?url=vTfJeTp6WN0wf3TYbFmhVkuucJSlkq9Db56yMykN4h-5LFtoSu4uTDPaJi6djFzoXvkDjj_RXvXykdR-gERfskkaq_H_iHLe1xbYCb8S8im]\n[2016私募排行榜发布:徐翔旧部领跑 加仓迹象明显-股票频道-和讯网]\n[http://www.baidu.com/link?url=2T1WCdOuPfyAjrThYNjNCCEo1Q0KfE7xLt9nZfpVL9V90UAjR44j7uG6AC49GPRCV2z8OAhsBIPflz94t-KMr_]\n"
     ]
    },
    {
     "name": "stdout",
     "output_type": "stream",
     "text": [
      "Continue...\n[神奇私募在哪里?2016年私募基金排行榜权威发布!_腾讯证券_腾讯网]\n[http://www.baidu.com/link?url=LfxgAC4OCUS23nh8aK0cFVyVqb3aALnDshYJe9uf9HSpQI5X-ztCilgoR9x6myK0tvQimwTDKFB6s08dKxiR6q]\n[2016年私募基金排名_阳光私募基金_格上财富]\n[http://www.baidu.com/link?url=6YMCd5MtWLuIEtwF8m7VoC9JtANS_cPT_XXjRt-F1WDvesoEJDTtmnCo23E1VhOW]\n[2016年最新私募基金排行榜]\n[http://www.baidu.com/link?url=SondDSRPJhL9PxebvbfZORM-AwxkTz7RRhvP1hgzD6LEyEOqaUwdwa5ysbIAPjDXoqHRWy95exegBeDImD9G9zj2MEmTutVbmVmbMy3s3nW]\n[神奇私募在哪里?2016年私募基金排行榜权威发布!_hao123上网导航]\n[http://www.baidu.com/link?url=s4-oAmQUyyYz6RZYeD1pfGYvG7JuKjF8U02rOpQLvXT5r67w9tOoEwfkO8dNbIbBnoO5xkVXV01K5cKCh4hbmy2LEs3pMiFdNT2iBnYUz2MG2eE1eF5B4IGYDJpPYJOT3Obel75eVzLwm_ZLemhb1a8VLxUa76-ipjcIvWcQLlu]\n[2016首份国家级私募股权母基金和基金排名公布(附完整..._中商情报网]\n[http://www.baidu.com/link?url=3mDOXvNTHWM12sfAxZz26-t1fT5MUz1KhV0ZV7ylPJhvF2pQnaBsRtShj06J0UQMxis4YYRxeUK62tKvCX3I77Vlf0XgKuARyRI7IsbTUty]\n[2016私募基金业绩排名]\n[http://www.baidu.com/link?url=KLlKfGwErALEommem8-NkbBzavk6su96eml-FnHgUF1FY4K0QsbB_rxRhqMLkjr4oNRt3TCCmyoal6sjHoIyvq]\n[2016年阳光私募基金排名及排行榜]\n[http://www.baidu.com/link?url=134SRYxurZkPlHy4DGyy65ahtawTJevIX1iFkblmO077Qq5CcQ3ws6S34dXYu8LoWP8nfxbG6Mv6VegQs7nKd_]\n[2016年前三季度中国阳光私募基金巅峰榜_阳光私募_基金频道_全景网]\n[http://www.baidu.com/link?url=T7a0gl0sYwHiC9H8wHIfokyN08SQQiLLw_yzQvHGhItlVbM2A_sfVSkCLZ0GxRSIiR9ct2JA6BaFZVvd6mZsTIa-HfOt3G5YMa1rneYc0S7]\n[2016年私募基金排行榜_握股藏龙_传送门]\n[http://www.baidu.com/link?url=J266o45g-wqOEVXoKRUxtvoJObh08dsw53wCzqk6Yf2RgHykh2CXAWTQzPNe-BDz]\n[神奇私募在哪里?2016年私募基金排行榜权威发布!]\n[http://www.baidu.com/link?url=1mnT8Fm7pbn6lgzcVdDerYqNEIerKDlWmru2UWPwbJvRV-ed0cykmggYGXhe7V6wGkt_1ZscOZEG190-HDFWC_]\n"
     ]
    },
    {
     "name": "stdout",
     "output_type": "stream",
     "text": [
      "Continue...\n[2016年私募基金排名_阳光私募产品 – 中国财富网]\n[http://www.baidu.com/link?url=ycZ1GFSlv0RMv-WnY1-tQNnBd_2SSDmbaB3cysvmzPC-8w5GOtH4qpnkKUUrOJck5AeZxWgnOFidax_nZj4-zq]\n[神奇私募在哪里?2016年私募基金排行榜权威发布! 晒单网]\n[http://www.baidu.com/link?url=iZn0Slh4y7c1WwyceBXbs76HA3F3Xqwmcmov6myhQfgMvMI0JWjblae1HhI11v8mG1AKoFvRkvYlJxr56PIIGK]\n[谁主沉浮?!2016中国私募基金排行榜]\n[http://www.baidu.com/link?url=qyXJdvlKH6TqcY8tXoyxzRT5SPnHaZ5wZwCN_S2aCCBq_g1EktLJQuMuYghrKsJN]\n[神奇私募在哪裏?2016年私募基金排行榜權威發布!_私募基金_中證網]\n[http://www.baidu.com/link?url=C6V7sGhbYUHcHkGZp37t3agYcz3I5mNO1Xe6wLHhCPY8HJR0pgigitaOQ0tm8KMh0bh97qmb35At-O7EtzOsw0NrH1r3To6DeE82CsDVdDIIpSVD2AEmTT0b1amV0ifHfOvwWZK1PQ3c7w29kn4bMK]\n[2016年1- 8月阳光私募九大策略排行榜_天天基金网(www.1234567.com...]\n[http://www.baidu.com/link?url=VwDj4C2cr5QGlBOBK6_KowUj9BhpGKn5YXMIk1OGrB8DXEU8EFOgKQMdTd8KUCpCIiar5BFC0C3omBpNj9PVkqQcoGBT40AURdooKJZuWuG]\n[谁主沉浮!2016中国私募基金排行榜_财经频道_东方头条]\n[http://www.baidu.com/link?url=SxX8WYc0uUr_VWN-v7RPMm6usitVT760Pntbp5Vm43p3nVaF2HgNOGMUOkqtdntRkOqmrf6Q7QSEJv3p1q-G_q]\n[2016年1-10月阳光私募九大策略排行榜--百度百家]\n[http://www.baidu.com/link?url=lF12PGGq5y9VecYmaPLfX2ouQo7BqctQxxxm1jRKB73Xd_yKvh2z-tvO1YgRTcREFEprAaECwUxuG9qwHv9uzq]\n[清科2016中国股权投资年度排名公布(总榜单)_排名榜单_投资界]\n[http://www.baidu.com/link?url=6NIutAZjtglkQFlNRnAI4XWQFGBDiYaAJh0Ej5mgejvDi3xDrX-KsWS8fywNfwblK-MnRVqBIlEVC6ch7maVPa]\n[「私募研究·TOP100」谁是年度最勤奋私募?——2016年私募基金调研...]\n[http://www.baidu.com/link?url=amGWjn0xF3uDJSmEzd6noadXFkiw5b8cOfCpIvFmz0_hbPOOQjxo_3JolS3pe8hSk_5Ykm5a5SDKrIhyRCFUIq]\n[2016收益最佳私募基金排名:管理期货私募前十曝光_第一黄金网]\n[http://www.baidu.com/link?url=2U2mjm5JWcjh34Dwth6N7Y-787fhGRg0F9aQMiY1YuG2JkBG8A71SvoR-Gdoxh5XE0BkvTUNggtJh1e7YfNwBa]\n"
     ]
    },
    {
     "name": "stdout",
     "output_type": "stream",
     "text": [
      "The End.\n"
     ]
    }
   ],
   "source": [
    "#!/usr/bin/env python  \n",
    "# -*- coding: utf-8 -*-  \n",
    "\n",
    "import requests \n",
    "from bs4 import BeautifulSoup\n",
    "\n",
    "\n",
    "soup = BeautifulSoup(requests.get(\"http://www.baidu.com/s?wd=2016私募基金排行榜\").text, 'lxml')\n",
    "\n",
    "bStop = True\n",
    "page = 1\n",
    "while bStop:\n",
    "    for line in soup.find_all('div', attrs={'class':'result c-container '}):\n",
    "        print(\"[\"+line.h3.a.text+\"]\")\n",
    "        print(\"[\"+line.h3.a.attrs[\"href\"]+\"]\")\n",
    "    \n",
    "    pages = soup.find_all(attrs={\"id\": \"page\"})[0].find_all('a')\n",
    "    realurl = requests.get(\"https://baidu.com\"+pages[len(pages)-1].attrs[\"href\"])\n",
    "    soup = BeautifulSoup(realurl.text, 'lxml')\n",
    "    page += 1\n",
    "    if soup:\n",
    "        if page == 5:\n",
    "            print(\"The End.\")\n",
    "            break;\n",
    "        print(\"Continue...\")\n",
    "        bStop = True\n",
    "    else:\n",
    "        print(\"The End.\")\n",
    "        bStop = False"
   ]
  },
  {
   "cell_type": "markdown",
   "metadata": {
    "collapsed": true
   },
   "source": [
    ""
   ]
  },
  {
   "cell_type": "code",
   "execution_count": 5,
   "metadata": {
    "collapsed": false
   },
   "outputs": [
    {
     "name": "stdout",
     "output_type": "stream",
     "text": [
      "[最新整理2016 私募基金公司实力排名]\n[http://www.baidu.com/link?url=Z5iCVq7pDyzEGbiH0CSYDR3hAxTG2EHSqkfu2Tfg_u7kMNupDuk_lzsscJtfnyUWceQoX65WumNjzNMtHPmuq_]\n"
     ]
    },
    {
     "name": "stdout",
     "output_type": "stream",
     "text": [
      "http://www.boying.com/licaixuetang/detail_33.html\n[2016收益最好的私募基金名单出炉:最牛赚7100%-基金频道-和讯网]\n[http://www.baidu.com/link?url=k5OoOwKv7vkAEKHMtz_YrycOz_hGgMCLX8XpfOzi1irp13VMZ1u5xiE6gOuyGSulzXgVCBewD1dQu4cg_1xu6FRVW1SrwW6QG-d7HWgd2He]\n"
     ]
    },
    {
     "name": "stdout",
     "output_type": "stream",
     "text": [
      "http://funds.hexun.com/2016-12-23/187468572.html?from=rss\n[2016年私募基金排行榜权威发布! - 雪球]\n[http://www.baidu.com/link?url=XTaUazjeTogIAZzktCbqJXMiGv93btlH5vkfmhBKqpxOTsmEvqfud4ptUNfxFtvo]\n"
     ]
    },
    {
     "name": "stdout",
     "output_type": "stream",
     "text": [
      "https://xueqiu.com/8341038772/80090932\n[2016年度私募基金排名榜单有没?_百度知道]\n[http://www.baidu.com/link?url=scWfaaLE9Lzh1T3qsRy_0zzMOU8iFbDqHmSGMcvA2Hd1CUhrvVlvak1Dvs11m3d2AFkTzT2ehFO7DbZHIDvMVWOBfV7LNz8Tmk8XC8Le7rO]\n"
     ]
    },
    {
     "name": "stdout",
     "output_type": "stream",
     "text": [
      "https://zhidao.baidu.com/question/244469359256111884.html\n[神奇私募在哪里?2016年私募基金排行榜权威发布!|私募排..._新浪财经]\n[http://www.baidu.com/link?url=Eg3wl7SySn4DCCy4TlmlOE_WYCgRieMNvsXcdr9OHO_yzoRCqQftZIpPj4j_hhav6BvQ8uBSBQU3VbIeQXIBPNEl4C6bkD0D4x4F04LK_Z7qYZVwqWZtWp7aP3Hu-bmx]\nhttp://finance.sina.com.cn/money/smjj/smyj/2017-01-13/doc-ifxzqnva3455318.shtml\n[2016私募基金排名_基金_中金网]\n[http://www.baidu.com/link?url=AivN8tlpL98K6W7f6m6zV5qxxb4aB6SSuftVLRNECoe34zSx4iWEVjgvhMlQivxH_bVxtPSiHII6GZLGRy1yoKA47n4qV49RfR6-BFQz0kS]\n"
     ]
    },
    {
     "name": "stdout",
     "output_type": "stream",
     "text": [
      "http://www.cngold.com.cn/newtopic/20160812/2016smjjpm.html\n[2016年度中国最稳私募基金产品排行榜-基金频道-和讯网]\n[http://www.baidu.com/link?url=4Td7YtbrT_KHvHgdGKP30Ml0B-YRNSXSiybL0J3cBJvwrnXAVdBZG0WUHeEIJaDUhLPtqBysrg3xDMrbyoxUUa]\n"
     ]
    },
    {
     "name": "stdout",
     "output_type": "stream",
     "text": [
      "http://funds.hexun.com/2017-01-17/187772189.html\n[2016年度中国最稳私募基金排行榜]\n[http://www.baidu.com/link?url=9TxpeqZtEMG_g1yq3QXMgtWytavFxa7Cnu_RF39dG1Nj9pwac79--Bo1Fn3dp-dtQ3iJAXRhE5-UUkNEVLkpavX6Dyi5dKW6x0PUA1_PFqW]\n"
     ]
    },
    {
     "name": "stdout",
     "output_type": "stream",
     "text": [
      "http://mt.sohu.com/business/d20170118/124619375_460386.shtml\n[2016年第四季度私募基金排行榜 - 中投在线]\n[http://www.baidu.com/link?url=0Hlz8CXuZpotSQWSkwThS-nQfqaSx5zcQyFBMZK8LRsybZF9qilk8rgqnYXGxCmHjvZyI5QykfBMvNt9Ya1fPK]\n"
     ]
    },
    {
     "name": "stdout",
     "output_type": "stream",
     "text": [
      "https://www.touzi.com/simu/qranking.html\n"
     ]
    },
    {
     "name": "stdout",
     "output_type": "stream",
     "text": [
      "Continue...\n[2016年度阳光私募基金排行榜_商讯_产经频道首页_财经网 - CAIJING...]\n[http://www.baidu.com/link?url=a4DgGBIIxfH1cufueroaSjIka_i0qZPL6OycN2g1uUiVe2BdeVCQwWGNHrCo1711U9t2I15o1NCwLdQztsaGw_]\n"
     ]
    },
    {
     "name": "stdout",
     "output_type": "stream",
     "text": [
      "http://industry.caijing.com.cn/20161223/4216193.shtml\n[2016中国十大私募基金公司排名 - 希财网]\n[http://www.baidu.com/link?url=hWtCeqG9Jz2KTDXlT64M2B9Rw7l8O1j972XdNoiGgfThbpeUIChqxl2lqnYML8YQSHLf8_d-j85IWPxAAlHnza]\n"
     ]
    },
    {
     "name": "stdout",
     "output_type": "stream",
     "text": [
      "http://www.csai.cn/jijin/1214743.html?articlepage=1\n[2016年度中国最佳股票策略私募基金产品排行榜_基金视点_中证网]\n[http://www.baidu.com/link?url=Wqdb-utiYzVglFGI1NcjGUuPzwyfGaLFXXbJUkRCrAIdKMKv8ZI7bXlS4Y6SJQA7zUgw00CyLRRhXDvMOWDjsyaLf25vdP9qaO-4gjTQeY7]\n"
     ]
    },
    {
     "name": "stdout",
     "output_type": "stream",
     "text": [
      "http://www.cs.com.cn/tzjj/jjks/201701/t20170120_5161213.html\n[最新2016年私募基金排行_私募基金_基金买卖网]\n[http://www.baidu.com/link?url=pSUTsU6dUP8x5HYLr5-F_eQIQMDD-9_0v1fPrKmKrFFdMK-NyI3sIen-pDC1SkgZoIzvZOUVwpV7FEFNMmLrhK]\n"
     ]
    },
    {
     "name": "stdout",
     "output_type": "stream",
     "text": [
      "http://www.jjmmw.com/news/detail/1240508/\n[朝阳永续:重磅发布 | 2016年私募基金八大策略收益排行榜]\n[http://www.baidu.com/link?url=VvTgcJQQno7yH8aDZdWC4-kqJJnePnAIaqJaqucncItQydCCBagDsWu6_8I4NP8VZ3MH1M8z5rstPcNFb1rQxxVk94vcyylFbseRX3Bmmky]\n"
     ]
    },
    {
     "name": "stdout",
     "output_type": "stream",
     "text": [
      "http://fund.cnfol.com/smjj/simuyanjiu/20170109/24123536.shtml\n[基金排名|2016年1-11月私募基金收益排行榜 - 基金 - 至诚财经网]\n[http://www.baidu.com/link?url=Avhyh0VL5ZJbLJ_yrTWOrlricjgiMD68HMVjH28SkcLvdWADFuiZhObX9hMoFdBVLYImqgBMG5zZWkKAmxx8__]\n"
     ]
    },
    {
     "name": "stdout",
     "output_type": "stream",
     "text": [
      "http://www.zhicheng.com/n/20161215/112888.html\n[2016年上半年中国阳光私募基金巅峰榜-基金频道]\n[http://www.baidu.com/link?url=Zh3kQP0UdP9WKFU5IUXsKQzFKHst9dXVziMiwLRbYmrFQBjoRNqAxyzLQsxRoxDaDoOizeTbXmpNTnp7kFrjKa]\n"
     ]
    },
    {
     "name": "stdout",
     "output_type": "stream",
     "text": [
      "http://fund.sohu.com/20160719/n459986453.shtml\n[2016三季度“十强私募”排行榜:私募基金重镇10月优势..._南方财富网]\n[http://www.baidu.com/link?url=iYocHp-tklvFUjLMzk7DJ8edfjyFDF18w2Z4bENYc7i7S5Rptk8AoLoRTA8BLLJXv6kDeZXI66YFU7e5eFs6Uz8PDlRRzj9MJk0NVuChoZe]\n"
     ]
    },
    {
     "name": "stdout",
     "output_type": "stream",
     "text": [
      "http://www.southmoney.com/gupiao/jjzcg/201610/814590_3.html\n[2016年一季度中国阳光私募基金巅峰榜_基金数据_中国贸易金融网]\n[http://www.baidu.com/link?url=dOmcMBTzA4lH0gxTWZBHiRVA5eSj1xIP1HvtYRr5ZVZmP5IB6Cjzzy4owt85zBV3Rg_l_SkJ6rS8lbPVRSPT9vsYDN2NX7gez_QH8VDBULW]\n"
     ]
    },
    {
     "name": "stdout",
     "output_type": "stream",
     "text": [
      "http://www.sinotf.com/GB/Fund/1287/2016-04-26/yMMDAwMDIwMTMyMQ.html\n[2016私募排行榜发布:徐翔旧部领跑 加仓迹象明显-股票频道-和讯网]\n[http://www.baidu.com/link?url=AcmNk1CsxnRrKMcvWQEPx6WABBm6Ob5ngG1mtPPoDMEi_ol--p-lFQD7SR3DboGMHLtIrx-jr6_c-jXQVGyoQq]\n"
     ]
    },
    {
     "name": "stdout",
     "output_type": "stream",
     "text": [
      "http://stock.hexun.com/2016-03-11/182690155.html\n"
     ]
    },
    {
     "name": "stdout",
     "output_type": "stream",
     "text": [
      "Continue...\n[神奇私募在哪里?2016年私募基金排行榜权威发布!_腾讯证券_腾讯网]\n[http://www.baidu.com/link?url=C_AXcB3TH-5erLVi-mNuBCXjt9KCf1SPM4_BJmbFJNWXbrlz9Ey84yVgLhSttdov___utnmyz1B_cUdYcgq4Cq]\nhttp://stock.qq.com/original/zmt/s2998.html\n[2016年私募基金排名_阳光私募基金_格上财富]\n[http://www.baidu.com/link?url=2EFrQAViv6KoQ4REkWRffvqsTF7Qvdsppla8EKQ6uhYGTcE2g5-4UNTEyMcTqFyg]\n"
     ]
    },
    {
     "name": "stdout",
     "output_type": "stream",
     "text": [
      "http://www.licai.com/simu/paihang.html\n[2016年最新私募基金排行榜]\n[http://www.baidu.com/link?url=L_hNgkzL_-dK2nMu-df68kxL80JYU_ZFgmHAo4PG265VDK5uD13vt5i94eoKaoKe5wS4dkrbQcGpcNg_1KzoKgM_9DMXln__kNRuhFxF78q]\n"
     ]
    },
    {
     "name": "stdout",
     "output_type": "stream",
     "text": [
      "http://www.zcmall.com/zt/simufy-201604000003.html?pcode=111805\n[神奇私募在哪里?2016年私募基金排行榜权威发布!_hao123上网导航]\n[http://www.baidu.com/link?url=vmrvnbOauZBTWIwqXvcFc2YvB-dek9ZxHFjoLwZifQodit9COGe0gLsQsNNE2E_8C3i5RrpWY9TpSpfGmp2UoJC900w8bs_xC_wMtWqh-eJSfM75HZ2l-tAtBz1W5R2vCQFxCRu4vcAfo470J-gCrypX13Kc496EXrSCqHC0bRW]\n"
     ]
    },
    {
     "name": "stdout",
     "output_type": "stream",
     "text": [
      "http://www.hao123.com/mid?key=pZwYTjCEQLILIz4WTz4WUvY8mv3EIZGJpBq1UyGJQ1csnHTsniqYnW0kP10knHPxPHDdPj6zPz4CIAd_\n[2016首份国家级私募股权母基金和基金排名公布(附完整..._中商情报网]\n[http://www.baidu.com/link?url=byF27VPBl1mRkyc1Mx9s_1ZQt4-BjLXbDNK55bgMZOak_htI5Toalpv157-CXl5oUF6HJPVOzEVdRzad-z2a0Bcdn4EkUTYsB9yHu2R8riW]\n"
     ]
    },
    {
     "name": "stdout",
     "output_type": "stream",
     "text": [
      "http://www.askci.com/news/paihang/20161107/14533775219.shtml\n[2016私募基金业绩排名]\n[http://www.baidu.com/link?url=1cwxgYs0txGAzEZepd0m26BQ41tP2GXEx2XGlKpRXq0eGw8dJ0KM7tQs4tERe9CENTQfW_91xmPTmy51q7Q6LK]\n"
     ]
    },
    {
     "name": "stdout",
     "output_type": "stream",
     "text": [
      "http://www.400qikan.com/kz/2016smjjyjpm/\n[2016年阳光私募基金排名及排行榜]\n[http://www.baidu.com/link?url=YnwhLoW9hqZBF53WX6DspDa-pWtWc4NOhx65tokpTjV1G2RF9hO71CEtI-I27PqRaZql1VLBFxgokTVnw-WlIq]\n"
     ]
    },
    {
     "name": "stdout",
     "output_type": "stream",
     "text": [
      "http://licai.cofool.com/ask/qa_143158.html\n[2016年前三季度中国阳光私募基金巅峰榜_阳光私募_基金频道_全景网]\n[http://www.baidu.com/link?url=p1c9vtk_1pWPOPYylNSc5z7GQ4gZxFllHRMMeqpzEOJXatL2V3aq_vdvKTrjvLqBcox64SX4OUXVMvt5m-4LT2oF-yST4maaK2fZ4eBQitm]\n"
     ]
    },
    {
     "name": "stdout",
     "output_type": "stream",
     "text": [
      "http://www.p5w.net/fund/smjj/201612/t20161219_1670926.htm\n[2016年私募基金排行榜_握股藏龙_传送门]\n[http://www.baidu.com/link?url=NZXHjhNU03z14PTEBeqKbEdyzfmms_md9dPQq4J03y8PzzP9EcWxO3g6JHlhG4RH]\n"
     ]
    },
    {
     "name": "stdout",
     "output_type": "stream",
     "text": [
      "http://chuansong.me/n/1496995752612\n[神奇私募在哪里?2016年私募基金排行榜权威发布!]\n[http://www.baidu.com/link?url=YF3bSqDyNUAnzVzUMu6Ysr6fNDQSDLZsVSxZ7KADP2i8Tls8e-Rd1HmvPcQ2lhmUsuN_uiqEYAlZvdc9GTQDB_]\n"
     ]
    },
    {
     "name": "stdout",
     "output_type": "stream",
     "text": [
      "http://quan.sohu.com/pinglun/cyqemw6s1/478534823\n"
     ]
    },
    {
     "name": "stdout",
     "output_type": "stream",
     "text": [
      "Continue...\n[2016年私募基金排名_阳光私募产品 – 中国财富网]\n[http://www.baidu.com/link?url=urrgZSMeniHWuVOlJu-5-pQS82t-pr1eJISl6FpGEYYxseJKgCq8bRnyQcDIZXKRYgFzcxaJBJYjQdqD43kL_K]\n"
     ]
    },
    {
     "name": "stdout",
     "output_type": "stream",
     "text": [
      "https://www.zhongguocaifu.com.cn/simu/productlist.html\n[神奇私募在哪里?2016年私募基金排行榜权威发布! 晒单网]\n[http://www.baidu.com/link?url=K5EDCK_Ct8ionbEBDLO2sHvTTWJL2YP7QnejYQzkgXvV87o0SEMbLsKwh2PYO7vCty-CpV8nppWdVX1U-Bt14_]\n"
     ]
    },
    {
     "name": "stdout",
     "output_type": "stream",
     "text": [
      "http://shaidanwang.cn/1007004_4002.html\n[谁主沉浮?!2016中国私募基金排行榜]\n[http://www.baidu.com/link?url=pR_7Zl7OnKgMkT50Lp_--6yiNffOC3PRlsb1Cuy2E1wdew7Yt5eYTMuvApC271rA]\n"
     ]
    },
    {
     "name": "stdout",
     "output_type": "stream",
     "text": [
      "https://www.ishuo.cn/doc/fcmxzqqf.html\n[神奇私募在哪裏?2016年私募基金排行榜權威發布!_私募基金_中證網]\n[http://www.baidu.com/link?url=YdN2BKDC5GLrOhMyeeT3sdQdQuaG7D4EUzHJ8DhOG9WIYViNVSiE8XvZ2y7DeBkxcsASsLMXb79aFRr8Wg55s1b9NvS5fA2KYQJtA2elc9TrLOeUm29lbGHPnPYUZjbS4vzCw5Yv99v3aItchZqSba]\n"
     ]
    },
    {
     "name": "stdout",
     "output_type": "stream",
     "text": [
      "http://big5.xinhuanet.com/gate/big5/www.cs.com.cn/tzjj/smjj/201701/t20170113_5154827.html\n[2016年1- 8月阳光私募九大策略排行榜_天天基金网(www.1234567.com...]\n[http://www.baidu.com/link?url=0zwNlccXHBq13z8F4QsDHQScEKUa020EjcQGtlA7NvZWvG_Kls4WsNtnz4chzBV2pGAxQYtv0C0K9O345bdKqe-kNKPWNPWDHLbro4uSh_u]\n"
     ]
    },
    {
     "name": "stdout",
     "output_type": "stream",
     "text": [
      "http://fund.eastmoney.com/news/1623,20160918664727776.html\n[谁主沉浮!2016中国私募基金排行榜_财经频道_东方头条]\n[http://www.baidu.com/link?url=gZ6jkCaB0_FyknnB_jgPcTZEXXO2rP5mPIphJsrjuPN3J-hEqLyUrILRrnUHK6Nu4Or0nnekruxHTDYGI0ePY_]\n"
     ]
    },
    {
     "name": "stdout",
     "output_type": "stream",
     "text": [
      "http://mini.eastday.com/a/160825181357725.html\n[2016年1-10月阳光私募九大策略排行榜--百度百家]\n[http://www.baidu.com/link?url=dhx9ls9Rw75GTgw6-Ir6zSp65iiX6JpAzvGNcrh3HSLXqaG3ZhkSSuTG_LkXyes2QsgtPRtvtus0wHjlWbXV6a]\n"
     ]
    },
    {
     "name": "stdout",
     "output_type": "stream",
     "text": [
      "http://gesafe.baijia.baidu.com/article/693960\n[清科2016中国股权投资年度排名公布(总榜单)_排名榜单_投资界]\n[http://www.baidu.com/link?url=RcOVfBCxNjypmu44uyLsFqAsYJRqrGAzR7SQ_6AgFYWTpvhtiSutjXT_u5Et712fda8Tjew0r0w4r3ElujJCsK]\n"
     ]
    },
    {
     "name": "stdout",
     "output_type": "stream",
     "text": [
      "http://pe.pedaily.cn/201612/20161208406442.shtml\n[「私募研究·TOP100」谁是年度最勤奋私募?——2016年私募基金调研...]\n[http://www.baidu.com/link?url=nKdvsScSIOVhggXs8mPiB4-ODnf4dCksGhaM0HkEha-BZwEER4Q50a-O5QscfdQbwj_3H3QEqDTd7zbe0xFmNK]\n"
     ]
    },
    {
     "name": "stdout",
     "output_type": "stream",
     "text": [
      "http://www.xiejing.com/wmedia/6Lqe11.html\n[2016收益最佳私募基金排名:管理期货私募前十曝光_第一黄金网]\n[http://www.baidu.com/link?url=8CJx8RPmr8l_CP_3OJ09Sse9ctDsbPuGUWVC8BKx-NMHFnwD6xSP71EomIRn8ozTqZQq7iY6mEbDtemK8MLCMa]\n"
     ]
    },
    {
     "name": "stdout",
     "output_type": "stream",
     "text": [
      "http://www.dyhjw.com/gold/20161223-63095.html\n"
     ]
    },
    {
     "name": "stdout",
     "output_type": "stream",
     "text": [
      "The End.\n"
     ]
    }
   ],
   "source": [
    "#!/usr/bin/env python  \n",
    "# -*- coding: utf-8 -*-  \n",
    "\n",
    "import requests \n",
    "import re\n",
    "from bs4 import BeautifulSoup\n",
    "\n",
    "\n",
    "soup = BeautifulSoup(requests.get(\"http://www.baidu.com/s?wd=2016私募基金排行榜\").text, 'lxml')\n",
    "\n",
    "bStop = True\n",
    "page = 1\n",
    "while bStop:\n",
    "    for line in soup.find_all('div', attrs={'class':'result c-container '}):\n",
    "        print(\"[\"+line.h3.a.text+\"]\")\n",
    "        print(\"[\"+line.h3.a.attrs[\"href\"]+\"]\")\n",
    "        tmpPage = requests.get(line.h3.a.attrs[\"href\"], allow_redirects=False)  \n",
    "        if tmpPage.status_code == 200:  \n",
    "            urlMatch = re.search(r'URL=\\'(.*?)\\'', tmpPage.text, re.S)  \n",
    "            realurl = urlMatch.group(1)  \n",
    "        elif tmpPage.status_code == 302:  \n",
    "            realurl = tmpPage.headers.get('location')  \n",
    "        else: \n",
    "            realurl = None\n",
    "            print('No URL found!!')\n",
    "        paihangbang = requests.get(realurl)\n",
    "        print(paihangbang.url)\n",
    "    \n",
    "    pages = soup.find_all(attrs={\"id\": \"page\"})[0].find_all('a')\n",
    "    realurl = requests.get(\"https://baidu.com\"+pages[len(pages)-1].attrs[\"href\"])\n",
    "    soup = BeautifulSoup(realurl.text, 'lxml')\n",
    "    page += 1\n",
    "    if soup:\n",
    "        if page == 5:\n",
    "            print(\"The End.\")\n",
    "            break;\n",
    "        print(\"Continue...\")\n",
    "        bStop = True\n",
    "    else:\n",
    "        print(\"The End.\")\n",
    "        bStop = False"
   ]
  },
  {
   "cell_type": "markdown",
   "metadata": {},
   "source": [
    "### 我根据上面冲百度搜索出来的结果，简单摘取了几个网页排名内容如下。仅仅通过这些内容和数据，我可以看到：\n",
    "### 1。福布斯排出来的最佳基金都没有任何对应产品出现在其它榜单上。\n",
    "### 2。同样是期货私募产品，三个网站的排名也是不尽相同。\n",
    "\n",
    "# 为什么会这样？如果有数据不正确，那么谁不正确？（且听下回分解！）\n",
    "\n",
    "\n",
    "数据来源：\n",
    "http://www.boying.com/licaixuetang/detail_33.html\n",
    "内容：\n",
    "福布斯最新发布：《2016中国最佳私募基金及基金经理排行榜出炉》\n",
    "　　排名 基金公司名称 成立时间 基金数 管理基金规模 评级 \t   总经理\n",
    "　　1 天弘基金 \t2004/11/8  28 \t5897.97亿元 暂无评级 郭树强\n",
    "　　2 华夏基金 \t1998/4/9   64 \t3121.05亿元 ★★★ \t   滕天鸣\n",
    "　　3 工银瑞信基金 2005/6/21  74 \t2541.09亿元 暂无评级 郭特华\n",
    "　　4 嘉实基金 \t1999/3/25  85 \t2454.19亿元 ★★★★    赵学军\n",
    "　　5 易方达基金 \t2001/4/17  90 \t2085.24亿元 ★★★     刘晓艳\n",
    "　　6 南方基金 \t1998/3/6   79 \t1950.82亿元 ★★★     杨小松\n",
    "　　7 中银基金 \t2004/8/12  57 \t1609.56亿元 ★★★★    李道滨\n",
    "　　8 广发基金 \t2003/8/5   79 \t1270.61亿元 ★★★     林传辉\n",
    "　　9 建信基金 \t2005/9/19  65 \t1211.32亿元 ★★★★    孙志晨\n",
    "　　10 招商基金 \t2002/12/27 67 \t1158.06亿元 暂无评级 许小松\n",
    "\n",
    "数据来源：\n",
    "http://funds.hexun.com/2016-12-23/187468572.html?from=rss\n",
    "内容：\n",
    "根据私募排排网数据\n",
    "管理期货私募产品前10名\n",
    "基金简称\t\t\t投资顾问\t\t今年收益率\n",
    "东华期货主动平衡1号\t\t东华期货\t\t278。37%\n",
    "东航金融-合顺伟业\t\t东航金控\t\t197。83%\n",
    "鼎融叁号\t\t\t大连鼎融投资\t159。62%\n",
    "信达润时成长1号\t\t润时资产\t\t125。76%\n",
    "国海良时-润时一号\t\t润时资产\t\t110。20%\n",
    "番茄资产管理1号\t\t新宇资产\t\t93。39%\n",
    "量金优利CTA二号\t\t量金资产\t\t92。41%\n",
    "金友德胜壹号\t\t德胜资产\t\t86。44%\n",
    "富利步步为盈1号\t\t富利投资\t\t85。01%\n",
    "小黑妞铸金1号\t\t小黑妞资管\t82。57%\n",
    "\n",
    "私募基金平均收益前十（2016年前11个月数据）\n",
    "公司名称\t\t收益率\n",
    "固利资产\t\t7139。36%\n",
    "和聚基金\t\t521。91%\n",
    "融葵投资\t\t232。83%\n",
    "善境投资\t\t231。66%\n",
    "融犇资产\t\t154。35%\n",
    "金阳六屏\t\t130。84%\n",
    "量易投资\t\t114。64%\n",
    "恩泽投资\t\t65。16%\n",
    "韦航投资\t\t58。8%\n",
    "中金量化\t\t52。58%\n",
    "\n",
    "数据来源：\n",
    "https://xueqiu.com/8341038772/80090932\n",
    "http://finance.sina.com.cn/money/smjj/smyj/2017-01-13/doc-ifxzqnva3455318.shtml\n",
    "内容：\n",
    "Wind资讯统计显示，截至2016年12月31日，基金业协会已登记备案私募基金管理人17433家，认缴规模突破10万亿。其中私募证券基金管理人数量7781家，规模27661亿元。\n",
    "管理期货私募产品前10名\n",
    "基金简称\t\t\t投资顾问\t\t今年收益率\n",
    "东华期货主动平衡1号\t\t东华期货\t\t278。37%\n",
    "东航金融-合顺伟业\t\t东航金控\t\t236。46%\n",
    "蓝金1号\t\t\t深海石投资\t193。86%\n",
    "鼎融叁号\t\t\t大连鼎融投资\t152。74%\n",
    "番茄资产管理1号\t\t新宇资产\t\t139。69%\n",
    "常然鸿凯1号\t\t鸿凯投资\t\t129。61%\n",
    "信达润时成长1号\t\t润时资产\t\t125。76%\n",
    "国海良时-润时一号\t\t润时资产\t\t116。88%\n",
    "海通期货德胜1号\t\t德胜资产\t\t96。43%\n",
    "量金优利CTA二号\t\t量金资产\t\t91。92%\n",
    "\n",
    "数据来源：\n",
    "http://www.cngold.com.cn/newtopic/20160812/2016smjjpm.html\n",
    "内容：\n",
    "1、安盈1号 股票型\t\t\t私募公司：安盈资产\t\t今年以来收益率：28.51%\n",
    "2、智信创富泓富1期 股票型\t\t私募公司：智信创富资产\t今年以来收益率：23.92%\n",
    "3、倚天徽商中国梦沙漠草3号 管理期货\t私募公司：倚天投资\t\t今年以来收益率：20.35%\n",
    "4、金域量化2期 股票型\t\t私募公司：金域蓝湾投资\t今年以来收益率：18.63%\n",
    "5、天治高溪量化对冲1号 股票型\t私募公司：高溪资产\t\t今年以来收益率：14.29%\n",
    "\n",
    "数据来源：\n",
    "http://funds.hexun.com/2017-01-17/187772189.html\n",
    "内容：\n",
    "2016年1-12月最稳期货策略对冲基金排行榜\n",
    "序号\t产品名称\t\t\t投资顾问\t基金经理\t夏普比率\t近一年收益率（%）\n",
    "1\t幻方志远01号\t\t幻方量化\t陈哲\t7.57\t19.13\n",
    "2\t幻方印月01号\t\t幻方量化\t陈哲\t4.38\t29.18\n",
    "3\t幻方慧鑫01号\t\t幻方量化\t陈哲\t4.05\t21.71\n",
    "4\t幻方钱海01号\t\t幻方量化\t陈哲\t4.01\t29.48\n",
    "5\t悟源农产品(000061,股吧)一号\t悟源资产\t　\t3.57\t50.3\n",
    "6\t幻方涌泉01号\t\t幻方量化\t陈哲\t3.38\t32.86\n",
    "7\t千石资本-量道对冲2号\t量道投资\t余晓锋,程余3.22\t7.81\n",
    "8\t汇艾-稳健1号\t\t汇艾资产\t杨晓荣\t3\t21.24\n",
    "9\t信达润时成长1号\t\t润时资产\t吴鸿智\t2.71\t130.65\n",
    "10\t宽宏1号\t\t\t蓝色天际投资陆敏杰\t2.61\t20.7\n",
    "数据来源：私募排排网数据中心，截至1月10日公布的净值参与排名\n",
    "\n"
   ]
  },
  {
   "cell_type": "code",
   "execution_count": null,
   "metadata": {},
   "outputs": [],
   "source": [
    ""
   ]
  }
 ],
 "metadata": {
  "anaconda-cloud": {},
  "kernelspec": {
   "display_name": "Python [conda root]",
   "language": "python",
   "name": "conda-root-py"
  },
  "language_info": {
   "codemirror_mode": {
    "name": "ipython",
    "version": 3.0
   },
   "file_extension": ".py",
   "mimetype": "text/x-python",
   "name": "python",
   "nbconvert_exporter": "python",
   "pygments_lexer": "ipython3",
   "version": "3.5.2"
  }
 },
 "nbformat": 4,
 "nbformat_minor": 0
}