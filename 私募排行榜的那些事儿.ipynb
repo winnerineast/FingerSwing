{
 "cells": [
  {
   "cell_type": "markdown",
   "metadata": {
    "collapsed": true
   },
   "source": [
    "# 私募排行榜的那些事儿"
   ]
  },
  {
   "cell_type": "markdown",
   "metadata": {},
   "source": [
    "## 本文属于\"疯狗撕云\"原创，数据来源于互联网，观点属于\"疯狗撕云\"，如有任何意见和看法，请在Issue里面留言，谢谢。"
   ]
  },
  {
   "cell_type": "markdown",
   "metadata": {},
   "source": [
    "## 通过百度搜索引擎，我们可以使用\"私募排行榜\"作为搜索关键字可以得到如下搜索结果（此结果可能会随着时间推移而改变，但是以下为搜索时的快照）："
   ]
  },
  {
   "cell_type": "code",
   "execution_count": null,
   "metadata": {},
   "outputs": [],
   "source": [
    "#!/usr/bin/env python  \n",
    "# -*- coding: utf-8 -*-  \n",
    "\n",
    "import re   \n",
    "import urllib2  \n",
    "from BeautifulSoup import BeautifulSoup  \n",
    "\n",
    "\n",
    "def search(key):\n",
    "    search_url = 'http://www.baidu.com/s?wd=key&rsv_bp=0&rsv_spt=3&rsv_n=2&inputT=6391'   \n",
    "    req=urllib2.urlopen(search_url.replace('key', key))   \n",
    "    result = []    \n",
    "    \n",
    "    #循环抓取10页结果进行解析  \n",
    "    for count in range(10):  \n",
    "        html = req.read()  \n",
    "        soup = BeautifulSoup(html)  \n",
    "        \n",
    "        content = soup.findAll('table', id=re.compile(\"\\d\"))  \n",
    "        num = len(content)  \n",
    "        \n",
    "        for i in range(num):  \n",
    "            #先解析出来内容  \n",
    "            p_str = content[i].find('a')  \n",
    "            #提取关键字  \n",
    "            if p_str.em:  \n",
    "                mstr = \"\".join(p_str.em.string)  \n",
    "            #提取缩略标题  \n",
    "            patt = re.compile(u\"<\\/em>(.*?)<\\/a>\")  \n",
    "            text = re.search(patt, unicode(p_str))  \n",
    "            if text:  \n",
    "                mstr += text.group(1)  \n",
    "            #构造字典序列  \n",
    "            result +=[{str: p_str['href']}]  \n",
    "            print(mstr + u'\\n' + unicode(p_str['href']) + u'\\n')  \n",
    "              \n",
    "        #解析下一页  \n",
    "        next_page='http://www.baidu.com'+soup('a', {'href': True, 'class': 'n'})[0]['href'] # search for the next page  \n",
    "        req = urllib2.urlopen(next_page)  \n",
    "        \n",
    "search('私募排行榜')  \n"
   ]
  }
 ],
 "metadata": {
  "kernelspec": {
   "display_name": "Python 2",
   "language": "python",
   "name": "python2"
  },
  "language_info": {
   "codemirror_mode": {
    "name": "ipython",
    "version": 2.0
   },
   "file_extension": ".py",
   "mimetype": "text/x-python",
   "name": "python",
   "nbconvert_exporter": "python",
   "pygments_lexer": "ipython2",
   "version": "2.7.6"
  }
 },
 "nbformat": 4,
 "nbformat_minor": 0
}